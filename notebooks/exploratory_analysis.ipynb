{
 "cells": [
  {
   "cell_type": "markdown",
   "id": "58603a1c",
   "metadata": {},
   "source": [
    "# Exploratory Data Analysis – Project Samarth\n",
    "\n",
    "This notebook explores sample agricultural production and rainfall datasets.\n",
    "\n"
   ]
  },
  {
   "cell_type": "code",
   "execution_count": 2,
   "id": "f517844b",
   "metadata": {},
   "outputs": [],
   "source": [
    "import pandas as pd\n",
    "import matplotlib.pyplot as plt\n"
   ]
  },
  {
   "cell_type": "markdown",
   "id": "629b20b2",
   "metadata": {},
   "source": [
    "## Load Raw Data\n"
   ]
  },
  {
   "cell_type": "code",
   "execution_count": 3,
   "id": "2f902473",
   "metadata": {},
   "outputs": [
    {
     "data": {
      "text/html": [
       "<div>\n",
       "<style scoped>\n",
       "    .dataframe tbody tr th:only-of-type {\n",
       "        vertical-align: middle;\n",
       "    }\n",
       "\n",
       "    .dataframe tbody tr th {\n",
       "        vertical-align: top;\n",
       "    }\n",
       "\n",
       "    .dataframe thead th {\n",
       "        text-align: right;\n",
       "    }\n",
       "</style>\n",
       "<table border=\"1\" class=\"dataframe\">\n",
       "  <thead>\n",
       "    <tr style=\"text-align: right;\">\n",
       "      <th></th>\n",
       "      <th>State</th>\n",
       "      <th>District</th>\n",
       "      <th>Year</th>\n",
       "      <th>Month</th>\n",
       "      <th>Rainfall_mm</th>\n",
       "    </tr>\n",
       "  </thead>\n",
       "  <tbody>\n",
       "    <tr>\n",
       "      <th>0</th>\n",
       "      <td>State_X</td>\n",
       "      <td>District_1</td>\n",
       "      <td>2022</td>\n",
       "      <td>1</td>\n",
       "      <td>75</td>\n",
       "    </tr>\n",
       "    <tr>\n",
       "      <th>1</th>\n",
       "      <td>State_X</td>\n",
       "      <td>District_1</td>\n",
       "      <td>2022</td>\n",
       "      <td>2</td>\n",
       "      <td>80</td>\n",
       "    </tr>\n",
       "    <tr>\n",
       "      <th>2</th>\n",
       "      <td>State_Y</td>\n",
       "      <td>District_3</td>\n",
       "      <td>2022</td>\n",
       "      <td>1</td>\n",
       "      <td>65</td>\n",
       "    </tr>\n",
       "    <tr>\n",
       "      <th>3</th>\n",
       "      <td>State_Y</td>\n",
       "      <td>District_4</td>\n",
       "      <td>2022</td>\n",
       "      <td>2</td>\n",
       "      <td>70</td>\n",
       "    </tr>\n",
       "    <tr>\n",
       "      <th>4</th>\n",
       "      <td>State_X</td>\n",
       "      <td>District_1</td>\n",
       "      <td>2023</td>\n",
       "      <td>1</td>\n",
       "      <td>78</td>\n",
       "    </tr>\n",
       "  </tbody>\n",
       "</table>\n",
       "</div>"
      ],
      "text/plain": [
       "     State    District  Year  Month  Rainfall_mm\n",
       "0  State_X  District_1  2022      1           75\n",
       "1  State_X  District_1  2022      2           80\n",
       "2  State_Y  District_3  2022      1           65\n",
       "3  State_Y  District_4  2022      2           70\n",
       "4  State_X  District_1  2023      1           78"
      ]
     },
     "execution_count": 3,
     "metadata": {},
     "output_type": "execute_result"
    }
   ],
   "source": [
    "rainfall = pd.read_csv('../data/raw/rainfall_data.csv')\n",
    "crops = pd.read_csv('../data/raw/crop_production.csv')\n",
    "\n",
    "rainfall.head()\n"
   ]
  },
  {
   "cell_type": "code",
   "execution_count": 4,
   "id": "e771bd23",
   "metadata": {},
   "outputs": [
    {
     "data": {
      "text/html": [
       "<div>\n",
       "<style scoped>\n",
       "    .dataframe tbody tr th:only-of-type {\n",
       "        vertical-align: middle;\n",
       "    }\n",
       "\n",
       "    .dataframe tbody tr th {\n",
       "        vertical-align: top;\n",
       "    }\n",
       "\n",
       "    .dataframe thead th {\n",
       "        text-align: right;\n",
       "    }\n",
       "</style>\n",
       "<table border=\"1\" class=\"dataframe\">\n",
       "  <thead>\n",
       "    <tr style=\"text-align: right;\">\n",
       "      <th></th>\n",
       "      <th>State</th>\n",
       "      <th>District</th>\n",
       "      <th>Crop</th>\n",
       "      <th>Year</th>\n",
       "      <th>Season</th>\n",
       "      <th>Area</th>\n",
       "      <th>Production</th>\n",
       "      <th>Yield</th>\n",
       "    </tr>\n",
       "  </thead>\n",
       "  <tbody>\n",
       "    <tr>\n",
       "      <th>0</th>\n",
       "      <td>State_X</td>\n",
       "      <td>District_1</td>\n",
       "      <td>Wheat</td>\n",
       "      <td>2022</td>\n",
       "      <td>Rabi</td>\n",
       "      <td>1200</td>\n",
       "      <td>3600</td>\n",
       "      <td>3.0</td>\n",
       "    </tr>\n",
       "    <tr>\n",
       "      <th>1</th>\n",
       "      <td>State_X</td>\n",
       "      <td>District_2</td>\n",
       "      <td>Rice</td>\n",
       "      <td>2022</td>\n",
       "      <td>Kharif</td>\n",
       "      <td>1500</td>\n",
       "      <td>4500</td>\n",
       "      <td>3.0</td>\n",
       "    </tr>\n",
       "    <tr>\n",
       "      <th>2</th>\n",
       "      <td>State_Y</td>\n",
       "      <td>District_3</td>\n",
       "      <td>Wheat</td>\n",
       "      <td>2022</td>\n",
       "      <td>Rabi</td>\n",
       "      <td>1000</td>\n",
       "      <td>2800</td>\n",
       "      <td>2.8</td>\n",
       "    </tr>\n",
       "    <tr>\n",
       "      <th>3</th>\n",
       "      <td>State_Y</td>\n",
       "      <td>District_4</td>\n",
       "      <td>Rice</td>\n",
       "      <td>2022</td>\n",
       "      <td>Kharif</td>\n",
       "      <td>1300</td>\n",
       "      <td>3900</td>\n",
       "      <td>3.0</td>\n",
       "    </tr>\n",
       "    <tr>\n",
       "      <th>4</th>\n",
       "      <td>State_X</td>\n",
       "      <td>District_1</td>\n",
       "      <td>Wheat</td>\n",
       "      <td>2023</td>\n",
       "      <td>Rabi</td>\n",
       "      <td>1250</td>\n",
       "      <td>3750</td>\n",
       "      <td>3.0</td>\n",
       "    </tr>\n",
       "  </tbody>\n",
       "</table>\n",
       "</div>"
      ],
      "text/plain": [
       "     State    District   Crop  Year  Season  Area  Production  Yield\n",
       "0  State_X  District_1  Wheat  2022    Rabi  1200        3600    3.0\n",
       "1  State_X  District_2   Rice  2022  Kharif  1500        4500    3.0\n",
       "2  State_Y  District_3  Wheat  2022    Rabi  1000        2800    2.8\n",
       "3  State_Y  District_4   Rice  2022  Kharif  1300        3900    3.0\n",
       "4  State_X  District_1  Wheat  2023    Rabi  1250        3750    3.0"
      ]
     },
     "execution_count": 4,
     "metadata": {},
     "output_type": "execute_result"
    }
   ],
   "source": [
    "crops.head()\n"
   ]
  },
  {
   "cell_type": "markdown",
   "id": "5092f9a0",
   "metadata": {},
   "source": [
    "## Aggregate Rainfall by State-Year\n"
   ]
  },
  {
   "cell_type": "code",
   "execution_count": 5,
   "id": "271edd5d",
   "metadata": {},
   "outputs": [
    {
     "data": {
      "text/html": [
       "<div>\n",
       "<style scoped>\n",
       "    .dataframe tbody tr th:only-of-type {\n",
       "        vertical-align: middle;\n",
       "    }\n",
       "\n",
       "    .dataframe tbody tr th {\n",
       "        vertical-align: top;\n",
       "    }\n",
       "\n",
       "    .dataframe thead th {\n",
       "        text-align: right;\n",
       "    }\n",
       "</style>\n",
       "<table border=\"1\" class=\"dataframe\">\n",
       "  <thead>\n",
       "    <tr style=\"text-align: right;\">\n",
       "      <th></th>\n",
       "      <th>State</th>\n",
       "      <th>Year</th>\n",
       "      <th>Rainfall_mm</th>\n",
       "    </tr>\n",
       "  </thead>\n",
       "  <tbody>\n",
       "    <tr>\n",
       "      <th>0</th>\n",
       "      <td>State_X</td>\n",
       "      <td>2022</td>\n",
       "      <td>155</td>\n",
       "    </tr>\n",
       "    <tr>\n",
       "      <th>1</th>\n",
       "      <td>State_X</td>\n",
       "      <td>2023</td>\n",
       "      <td>160</td>\n",
       "    </tr>\n",
       "    <tr>\n",
       "      <th>2</th>\n",
       "      <td>State_Y</td>\n",
       "      <td>2022</td>\n",
       "      <td>135</td>\n",
       "    </tr>\n",
       "  </tbody>\n",
       "</table>\n",
       "</div>"
      ],
      "text/plain": [
       "     State  Year  Rainfall_mm\n",
       "0  State_X  2022          155\n",
       "1  State_X  2023          160\n",
       "2  State_Y  2022          135"
      ]
     },
     "execution_count": 5,
     "metadata": {},
     "output_type": "execute_result"
    }
   ],
   "source": [
    "# Aggregate rainfall by State and Year\n",
    "rainfall_agg = rainfall.groupby(['State', 'Year'])['Rainfall_mm'].sum().reset_index()\n",
    "\n",
    "rainfall_agg\n"
   ]
  },
  {
   "cell_type": "code",
   "execution_count": 6,
   "id": "0ea55f6a",
   "metadata": {},
   "outputs": [
    {
     "data": {
      "image/png": "[encoded data removed]",
      "text/plain": [
       "<Figure size 800x400 with 1 Axes>"
      ]
     },
     "metadata": {},
     "output_type": "display_data"
    }
   ],
   "source": [
    "# Pivot for plotting\n",
    "pivot_rainfall = rainfall_agg.pivot(index='Year', columns='State', values='Rainfall_mm')\n",
    "pivot_rainfall.plot(kind='bar', figsize=(8, 4))\n",
    "plt.ylabel('Total Rainfall (mm)')\n",
    "plt.title('Annual Rainfall by State')\n",
    "plt.show()\n"
   ]
  },
  {
   "cell_type": "markdown",
   "id": "b2944ffb",
   "metadata": {},
   "source": [
    "## Top Crop Production by State\n"
   ]
  },
  {
   "cell_type": "code",
   "execution_count": 7,
   "id": "05fcef62",
   "metadata": {},
   "outputs": [
    {
     "data": {
      "text/html": [
       "<div>\n",
       "<style scoped>\n",
       "    .dataframe tbody tr th:only-of-type {\n",
       "        vertical-align: middle;\n",
       "    }\n",
       "\n",
       "    .dataframe tbody tr th {\n",
       "        vertical-align: top;\n",
       "    }\n",
       "\n",
       "    .dataframe thead th {\n",
       "        text-align: right;\n",
       "    }\n",
       "</style>\n",
       "<table border=\"1\" class=\"dataframe\">\n",
       "  <thead>\n",
       "    <tr style=\"text-align: right;\">\n",
       "      <th></th>\n",
       "      <th>State</th>\n",
       "      <th>Crop</th>\n",
       "      <th>Production</th>\n",
       "    </tr>\n",
       "  </thead>\n",
       "  <tbody>\n",
       "    <tr>\n",
       "      <th>1</th>\n",
       "      <td>State_X</td>\n",
       "      <td>Wheat</td>\n",
       "      <td>7350</td>\n",
       "    </tr>\n",
       "    <tr>\n",
       "      <th>0</th>\n",
       "      <td>State_X</td>\n",
       "      <td>Rice</td>\n",
       "      <td>4500</td>\n",
       "    </tr>\n",
       "    <tr>\n",
       "      <th>2</th>\n",
       "      <td>State_Y</td>\n",
       "      <td>Rice</td>\n",
       "      <td>3900</td>\n",
       "    </tr>\n",
       "    <tr>\n",
       "      <th>3</th>\n",
       "      <td>State_Y</td>\n",
       "      <td>Wheat</td>\n",
       "      <td>2800</td>\n",
       "    </tr>\n",
       "  </tbody>\n",
       "</table>\n",
       "</div>"
      ],
      "text/plain": [
       "     State   Crop  Production\n",
       "1  State_X  Wheat        7350\n",
       "0  State_X   Rice        4500\n",
       "2  State_Y   Rice        3900\n",
       "3  State_Y  Wheat        2800"
      ]
     },
     "execution_count": 7,
     "metadata": {},
     "output_type": "execute_result"
    }
   ],
   "source": [
    "top_crops = crops.groupby(['State', 'Crop'])['Production'].sum().reset_index()\n",
    "top_crops = top_crops.sort_values(['State', 'Production'], ascending=[True, False])\n",
    "top_crops.groupby('State').head(2)\n"
   ]
  },
  {
   "cell_type": "markdown",
   "id": "21bd03d9",
   "metadata": {},
   "source": [
    "## Analyze Crop Production Trend Over Years\n"
   ]
  },
  {
   "cell_type": "code",
   "execution_count": 8,
   "id": "eb6054d0",
   "metadata": {},
   "outputs": [
    {
     "data": {
      "image/png": "[encoded data removed]",
      "text/plain": [
       "<Figure size 640x480 with 1 Axes>"
      ]
     },
     "metadata": {},
     "output_type": "display_data"
    }
   ],
   "source": [
    "# Example: Trend for Wheat in State_X\n",
    "df = crops[(crops['Crop'] == 'Wheat') & (crops['State'] == 'State_X')]\n",
    "df.plot(x='Year', y='Production', kind='line', marker='o')\n",
    "plt.title('Wheat Production in State_X Over Years')\n",
    "plt.ylabel('Production (tons)')\n",
    "plt.show()\n"
   ]
  }
 ],
 "metadata": {
  "kernelspec": {
   "display_name": "venv (3.13.5)",
   "language": "python",
   "name": "python3"
  },
  "language_info": {
   "codemirror_mode": {
    "name": "ipython",
    "version": 3
   },
   "file_extension": ".py",
   "mimetype": "text/x-python",
   "name": "python",
   "nbconvert_exporter": "python",
   "pygments_lexer": "ipython3",
   "version": "3.13.5"
  }
 },
 "nbformat": 4,
 "nbformat_minor": 5
}
